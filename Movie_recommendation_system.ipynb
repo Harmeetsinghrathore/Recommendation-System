{
 "cells": [
  {
   "cell_type": "markdown",
   "id": "08927c72-d241-4b16-a29c-63da86435305",
   "metadata": {
    "tags": []
   },
   "source": [
    "### Movie recommendation system \n",
    "~ Harmeet Singh R"
   ]
  },
  {
   "cell_type": "code",
   "execution_count": null,
   "id": "3b0190c4-70ad-409e-86b5-8b1f8c0f6282",
   "metadata": {},
   "outputs": [],
   "source": [
    "import pandas as pd"
   ]
  },
  {
   "cell_type": "code",
   "execution_count": null,
   "id": "7fcc7c2f-9523-43e5-9436-b16ee803c436",
   "metadata": {},
   "outputs": [],
   "source": [
    "Data = pd.read_csv('movies_metadata.csv')"
   ]
  },
  {
   "cell_type": "code",
   "execution_count": null,
   "id": "5f3d70e6-6b1c-4338-a114-ac09314b1e03",
   "metadata": {},
   "outputs": [],
   "source": [
    "Data.head()"
   ]
  },
  {
   "cell_type": "code",
   "execution_count": null,
   "id": "7405df9a-2ac6-4980-acf2-958d2e0468ce",
   "metadata": {},
   "outputs": [],
   "source": [
    "Data.info()"
   ]
  },
  {
   "cell_type": "code",
   "execution_count": null,
   "id": "fa65ddf8-cc59-43f8-a70d-30e01088d67b",
   "metadata": {},
   "outputs": [],
   "source": [
    "mean_vote = Data['vote_average'].mean()\n",
    "print(mean_vote)  "
   ]
  },
  {
   "cell_type": "code",
   "execution_count": null,
   "id": "73d85f2f-1128-4e4a-adcd-636dec08438f",
   "metadata": {},
   "outputs": [],
   "source": [
    "mini_vote = Data['vote_count'].quantile(0.9)\n",
    "print(mini_vote)"
   ]
  },
  {
   "cell_type": "code",
   "execution_count": null,
   "id": "76d14ce3-43c6-4ec5-82ac-1932bae31b2f",
   "metadata": {},
   "outputs": [],
   "source": [
    "cutoff_movies = Data.copy().loc[Data['vote_count'] >= mini_vote]\n",
    "cutoff_movies.shape"
   ]
  },
  {
   "cell_type": "code",
   "execution_count": null,
   "id": "c3668e3c-41a4-45d9-993f-7757ab5eccbf",
   "metadata": {},
   "outputs": [],
   "source": [
    "def weighted_rating ( x, mini_vote = mini_vote, mean_vote=mean_vote):\n",
    "    voters = x['vote_count']\n",
    "    avg_vote = x['vote_average']\n",
    "    # calculation of IMBd formula \n",
    "    return (voters / (voters + mini_vote) * avg_vote) + (mini_vote/ (mini_vote + voters) * mean_vote)"
   ]
  },
  {
   "cell_type": "code",
   "execution_count": null,
   "id": "d710a8c6-dd9b-4643-ac76-aa008983f63d",
   "metadata": {},
   "outputs": [],
   "source": [
    "cutoff_movies['score'] = cutoff_movies.apply(weighted_rating, axis = 1)"
   ]
  },
  {
   "cell_type": "code",
   "execution_count": null,
   "id": "dbbe2696-3c92-4c2a-bf0e-0610a956e1cd",
   "metadata": {},
   "outputs": [],
   "source": [
    "cutoff_movies = cutoff_movies.sort_values('score', ascending = False)"
   ]
  },
  {
   "cell_type": "code",
   "execution_count": null,
   "id": "323d8a94-0514-416d-91d7-e4fa6d8711b3",
   "metadata": {},
   "outputs": [],
   "source": [
    "pd.set_option('precision', 2)"
   ]
  },
  {
   "cell_type": "code",
   "execution_count": null,
   "id": "ca846169-2c52-400f-8a6f-b6663d7d8269",
   "metadata": {},
   "outputs": [],
   "source": [
    "cutoff_movies[['title', 'vote_count', 'vote_average', 'score']].head(20)"
   ]
  },
  {
   "cell_type": "code",
   "execution_count": null,
   "id": "6ea880b0-77ef-4a7d-8013-73213b4fdae9",
   "metadata": {},
   "outputs": [],
   "source": []
  },
  {
   "cell_type": "code",
   "execution_count": null,
   "id": "60cd9c7d-08e5-4654-8989-b3e4636f11eb",
   "metadata": {},
   "outputs": [],
   "source": []
  }
 ],
 "metadata": {
  "kernelspec": {
   "display_name": "Python 3 (ipykernel)",
   "language": "python",
   "name": "python3"
  },
  "language_info": {
   "codemirror_mode": {
    "name": "ipython",
    "version": 3
   },
   "file_extension": ".py",
   "mimetype": "text/x-python",
   "name": "python",
   "nbconvert_exporter": "python",
   "pygments_lexer": "ipython3",
   "version": "3.9.7"
  }
 },
 "nbformat": 4,
 "nbformat_minor": 5
}
